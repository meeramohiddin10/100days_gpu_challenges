{
  "nbformat": 4,
  "nbformat_minor": 0,
  "metadata": {
    "colab": {
      "provenance": []
    },
    "kernelspec": {
      "name": "python3",
      "display_name": "Python 3"
    },
    "language_info": {
      "name": "python"
    }
  },
  "cells": [
    {
      "cell_type": "code",
      "execution_count": 1,
      "metadata": {
        "colab": {
          "base_uri": "https://localhost:8080/"
        },
        "id": "JOw5P0XFiIQI",
        "outputId": "21d5f4c6-2cab-4266-ecda-e93ba02ab0c8"
      },
      "outputs": [
        {
          "output_type": "stream",
          "name": "stdout",
          "text": [
            "Writing vector_add.cu\n"
          ]
        }
      ],
      "source": [
        "%%writefile vector_add.cu\n",
        "#include <iostream>\n",
        "\n",
        "__global__ void vectorMatrixMult(const float* A, const float* B, float* C, int N) {\n",
        "    int i = blockIdx.x * blockDim.x + threadIdx.x;\n",
        "    if (i < N) {\n",
        "      float sum=0.0f;\n",
        "      for (int j = 0; j < N; j++) {\n",
        "         sum += A[i*N+j]*B[j];\n",
        "      }\n",
        "      C[i]=sum;\n",
        "}}\n",
        "\n",
        "int main() {\n",
        "    //initialize the matrix\n",
        "    const int N = 10;\n",
        "    float *A, *B, *C;\n",
        "\n",
        "    // initialize the input matrices\n",
        "    A = (float *)malloc( N*N* sizeof(float));\n",
        "    B = (float *)malloc(N*sizeof(float));\n",
        "    C = (float *)malloc(N*sizeof(float));\n",
        "\n",
        "\n",
        "    for (int i = 0; i < N; i++)\n",
        "    {\n",
        "        for (int j = 0; j < N; j++)\n",
        "        {\n",
        "            A[i * N + j] = 1.0f;\n",
        "        }\n",
        "        B[i] = 2.0f;\n",
        "        C[i] = 0.0f;\n",
        "    }\n",
        "\n",
        "    float *d_a, *d_b,*d_c;\n",
        "    cudaMalloc(&d_a,N*N*sizeof(float));\n",
        "    cudaMalloc(&d_b,N*sizeof(float));\n",
        "    cudaMalloc(&d_c,N*sizeof(float));\n",
        "    cudaMemcpy(d_a,A,N*N*sizeof(float),cudaMemcpyHostToDevice);\n",
        "    cudaMemcpy(d_b,B,N*sizeof(float),cudaMemcpyHostToDevice);\n",
        "    int blocksize=256;\n",
        "    int gridsize = (N + blocksize - 1) / blocksize;\n",
        "    vectorMatrixMult<<<gridsize,blocksize>>>(d_a,d_b,d_c,N);\n",
        "\n",
        "  cudaDeviceSynchronize();\n",
        "cudaMemcpy(C,d_c,N*sizeof(float),cudaMemcpyDeviceToHost);\n",
        "\n",
        "     printf(\"A:\\n\");\n",
        "    for (int i = 0; i < N; i++) {\n",
        "        for (int j = 0; j < N; j++) {\n",
        "\n",
        "            printf(\"%.2f \", A[i * N + j]); // Prints each element with 2 decimal precision\n",
        "        }\n",
        "        printf(\"\\n\"); // Adds a newline after each row\n",
        "    }\n",
        "\n",
        "    printf(\"C:\\n\");\n",
        "    for (int i = 0; i < N; i++) {\n",
        "\n",
        "\n",
        "            printf(\"%.2f \",C[i]); // Prints each element with 2 decimal precision\n",
        "\n",
        "    }\n",
        "printf(\"\\n\");\n",
        "     printf(\"B:\\n\");\n",
        "    for (int i = 0; i < N; i++) {\n",
        "\n",
        "\n",
        "            printf(\"%.2f \", B[i ]); // Prints each element with 2 decimal precision\n",
        "\n",
        "    }\n",
        "\n",
        "\n",
        "\n",
        "    cudaFree(d_a);\n",
        "    cudaFree(d_b);\n",
        "    cudaFree(d_c);\n",
        "\n",
        "}"
      ]
    },
    {
      "cell_type": "code",
      "source": [
        "# Compile with the specified architecture\n",
        "!nvcc vector_add.cu -o vector_add -gencode arch=compute_75,code=sm_75\n",
        "\n",
        "# Run the executable\n",
        "!./vector_add"
      ],
      "metadata": {
        "colab": {
          "base_uri": "https://localhost:8080/"
        },
        "id": "vz8Kg6SqicTo",
        "outputId": "c0c2d07e-e9d6-4683-a080-e8fb5696b6a8"
      },
      "execution_count": 2,
      "outputs": [
        {
          "output_type": "stream",
          "name": "stdout",
          "text": [
            "A:\n",
            "1.00 1.00 1.00 1.00 1.00 1.00 1.00 1.00 1.00 1.00 \n",
            "1.00 1.00 1.00 1.00 1.00 1.00 1.00 1.00 1.00 1.00 \n",
            "1.00 1.00 1.00 1.00 1.00 1.00 1.00 1.00 1.00 1.00 \n",
            "1.00 1.00 1.00 1.00 1.00 1.00 1.00 1.00 1.00 1.00 \n",
            "1.00 1.00 1.00 1.00 1.00 1.00 1.00 1.00 1.00 1.00 \n",
            "1.00 1.00 1.00 1.00 1.00 1.00 1.00 1.00 1.00 1.00 \n",
            "1.00 1.00 1.00 1.00 1.00 1.00 1.00 1.00 1.00 1.00 \n",
            "1.00 1.00 1.00 1.00 1.00 1.00 1.00 1.00 1.00 1.00 \n",
            "1.00 1.00 1.00 1.00 1.00 1.00 1.00 1.00 1.00 1.00 \n",
            "1.00 1.00 1.00 1.00 1.00 1.00 1.00 1.00 1.00 1.00 \n",
            "C:\n",
            "0.00 0.00 0.00 0.00 0.00 0.00 0.00 0.00 0.00 0.00 \n",
            "B:\n",
            "2.00 2.00 2.00 2.00 2.00 2.00 2.00 2.00 2.00 2.00 "
          ]
        }
      ]
    }
  ]
}
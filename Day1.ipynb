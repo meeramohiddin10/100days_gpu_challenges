{
  "nbformat": 4,
  "nbformat_minor": 0,
  "metadata": {
    "colab": {
      "provenance": []
    },
    "kernelspec": {
      "name": "python3",
      "display_name": "Python 3"
    },
    "language_info": {
      "name": "python"
    }
  },
  "cells": [
    {
      "cell_type": "code",
      "execution_count": 32,
      "metadata": {
        "colab": {
          "base_uri": "https://localhost:8080/"
        },
        "id": "qSJ0VSgUOO88",
        "outputId": "254dc5ed-7b8f-41fb-966d-36646384ec81"
      },
      "outputs": [
        {
          "output_type": "stream",
          "name": "stdout",
          "text": [
            "Overwriting vector_add.cu\n"
          ]
        }
      ],
      "source": [
        "#include <iostream>\n",
        "#include <cmath>\n",
        "\n",
        "__global__ void vectorAdd(const float* A, const float* B, float* C, int N) {\n",
        "    int i = blockIdx.x * blockDim.x + threadIdx.x;\n",
        "    if (i < N) {\n",
        "        C[i] = A[i] + B[i];\n",
        "    }\n",
        "}\n",
        "\n",
        "int main() {\n",
        "    const int N = 10;\n",
        "    float A[N], B[N], C[N];\n",
        "\n",
        "    // Initialize A and B with some values\n",
        "    for (int i = 0; i < N; ++i) {\n",
        "        A[i] = i;\n",
        "        B[i] = i * 2;\n",
        "    }\n",
        "\n",
        "    // Print vectors A and B\n",
        "    std::cout << \"Vector A:\" << std::endl;\n",
        "    for (int i = 0; i < N; ++i) {\n",
        "        std::cout << A[i] << \" \";\n",
        "    }\n",
        "    std::cout << std::endl;\n",
        "\n",
        "    std::cout << \"Vector B:\" << std::endl;\n",
        "    for (int i = 0; i << N; ++i) {\n",
        "        std::cout << B[i] << \" \";\n",
        "    }\n",
        "    std::cout << std::endl;\n",
        "\n",
        "    float *d_a, *d_b,*d_c;\n",
        "    cudaMalloc(&d_a,N*sizeof(float));\n",
        "    cudaMalloc(&d_b,N*sizeof(float));\n",
        "    cudaMalloc(&d_c,N*sizeof(float));\n",
        "    cudaMemcpy(d_a,A,N*sizeof(float),cudaMemcpyHostToDevice);\n",
        "    cudaMemcpy(d_b,B,N*sizeof(float),cudaMemcpyHostToDevice);\n",
        "\n",
        "    std::cout << \"Launching CUDA kernel...\" << std::endl;\n",
        "    int blocksize=256;\n",
        "    int gridsize=static_cast<int>(std::ceil(static_cast<float>(N)/blocksize)); // Use std::ceil for ceiling calculation\n",
        "    vectorAdd<<<gridsize,blocksize>>>(d_a,d_b,d_c,N);\n",
        "    cudaDeviceSynchronize(); // Wait for the kernel to finish\n",
        "    std::cout << \"CUDA kernel finished.\" << std::endl;\n",
        "\n",
        "    cudaMemcpy(C,d_c,N*sizeof(float),cudaMemcpyDeviceToHost);\n",
        "    cudaFree(d_a);\n",
        "    cudaFree(d_b);\n",
        "    cudaFree(d_c);\n",
        "\n",
        "    // Print the resulting vector C\n",
        "    std::cout << \"Resulting vector C:\" << std::endl;\n",
        "    for (int i = 0; i < N; ++i) {\n",
        "        std::cout << C[i] << \" \";\n",
        "    }\n",
        "    std::cout << std::endl;\n",
        "\n",
        "    return 0;\n",
        "}"
      ]
    },
    {
      "cell_type": "code",
      "source": [
        "!nvcc vector_add.cu -o vectAdd -gencode arch=compute_75,code=sm_75 -lcudart\n",
        "\n",
        "# Run the executable\n",
        "!./vectAdd"
      ],
      "metadata": {
        "colab": {
          "base_uri": "https://localhost:8080/"
        },
        "id": "gTXFM3dZTaj8",
        "outputId": "4daafe05-2129-4408-9fb2-773ab97b571d"
      },
      "execution_count": 34,
      "outputs": [
        {
          "output_type": "stream",
          "name": "stdout",
          "text": [
            "Vector A:\n",
            "0 1 2 3 4 5 6 7 8 9 \n",
            "Vector B:\n",
            "0 2 4 6 8 10 12 14 16 18 \n",
            "Launching CUDA kernel...\n",
            "CUDA kernel finished.\n",
            "Resulting vector C:\n",
            "0 0 0 0 0 0 0 0 0 0 \n"
          ]
        }
      ]
    },
    {
      "cell_type": "code",
      "source": [],
      "metadata": {
        "id": "sa6F-10BUzjy"
      },
      "execution_count": null,
      "outputs": []
    }
  ]
}